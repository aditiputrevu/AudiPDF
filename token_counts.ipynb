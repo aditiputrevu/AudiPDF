{
  "nbformat": 4,
  "nbformat_minor": 0,
  "metadata": {
    "colab": {
      "name": "term-statistics.ipynb",
      "provenance": [],
      "include_colab_link": true
    },
    "kernelspec": {
      "name": "python3",
      "display_name": "Python 3"
    },
    "language_info": {
      "name": "python"
    }
  },
  "cells": [
    {
      "cell_type": "markdown",
      "metadata": {
        "id": "view-in-github",
        "colab_type": "text"
      },
      "source": [
        "<a href=\"https://colab.research.google.com/github/aditiputrevu/AudiPDF/blob/main/token_counts.ipynb\" target=\"_parent\"><img src=\"https://colab.research.google.com/assets/colab-badge.svg\" alt=\"Open In Colab\"/></a>"
      ]
    },
    {
      "cell_type": "markdown",
      "metadata": {
        "id": "2yYCQrU0J5C5"
      },
      "source": [
        "# Empirical Regularities of Language\n",
        "\n",
        "In this first homework assignment, you will familiarize yourself with some empirical regularities of natural language, Shannon entropy and Zipf's Law.\n",
        "\n",
        "Read through this Jupyter notebook and fill in the parts marked with `TODO`. When you're ready to submit, print the notebook as a PDF and upload to Gradescope.\n",
        "\n",
        "## Shannon Entropy\n",
        "\n",
        "Shannon borrowed the concept of entropy from statistical physics to develop _information theory_, focused on encoding and compressing messages. A few years later, in 1950, he applied information theory to analyze human predictive ability—in other words, the entropy of the human language model. You can read the original article, [Prediction and Entropy of Printed English](https://languagelog.ldc.upenn.edu/myl/Shannon1950.pdf), for more details.\n",
        "\n",
        "Your first task is to collect data on how predictable different letters are in an English sentence, depending on how much context in a word or sentence you have.\n",
        "\n",
        "Go to the [Shannon game page](https://www.ccs.neu.edu/home/dasmith/courses/cs6120/shannon/) that we demonstrated in class. We already guessed part of Text 1, so work through Texts 2, 3, and 4."
      ]
    },
    {
      "cell_type": "code",
      "source": [
        "!git clone https://github.com/dasmiq/cs6120-hw1.git\n",
        "%cd cs6120-hw1\n",
        "!ls"
      ],
      "metadata": {
        "colab": {
          "base_uri": "https://localhost:8080/"
        },
        "id": "qxLZQJWkZioO",
        "outputId": "8cbfe05c-8f29-4ddc-af4a-543468d9e739"
      },
      "execution_count": 1,
      "outputs": [
        {
          "output_type": "stream",
          "name": "stdout",
          "text": [
            "Cloning into 'cs6120-hw1'...\n",
            "remote: Enumerating objects: 21, done.\u001b[K\n",
            "remote: Counting objects: 100% (21/21), done.\u001b[K\n",
            "remote: Compressing objects: 100% (19/19), done.\u001b[K\n",
            "remote: Total 21 (delta 4), reused 0 (delta 0), pack-reused 0 (from 0)\u001b[K\n",
            "Receiving objects: 100% (21/21), 21.78 KiB | 10.89 MiB/s, done.\n",
            "Resolving deltas: 100% (4/4), done.\n",
            "/content/cs6120-hw1\n",
            "README.md  token_counts.ipynb\n"
          ]
        }
      ]
    },
    {
      "cell_type": "code",
      "source": [
        "# TODO: Enter the arrays of numbers of guesses for Texts 2, 3, and 4 here.\n",
        "\n",
        "import math, numpy as np\n",
        "\n",
        "text2 = [6,5,5,5,12,1,1,27,15,6,1,1,1,3,1,1,3,1,3,6,9,2,1,1,21,4,27,19,13,4,9,1,4,3,1,1,1,2,14,2,3,1,1,1,1,1,1]\n",
        "text3 = [20,4,27,5,6,2,1,1,7,7,1,1,1,1,1,1,1,1,1,1,6,1,1,1,1,16,2,3,4,1,1,1,1,1,1,6,2,8,1,1,1,8,4,1,2,1,3,1,6,1,1,1,10,2,1,16,1,27,9,5,1,2,2,1,1,1,1]\n",
        "text4 = [5,2,1,1,1,4,9,4,2,1,1,1,1,1,1,20,2,4,1,1,1,1,1,1,2,1,11,5,1,1,5,1,5,2,1,1,1,1,1,7,7,17,1,2,22,6,2,1,1,1,1,1,2,15,1,1,1]\n",
        "\n",
        "def counts_from_list(lst, max_guess=27):\n",
        "    counts = [0]*max_guess\n",
        "    for g in lst:\n",
        "        if 1 <= g <= max_guess:\n",
        "            counts[g-1] += 1\n",
        "    return counts\n",
        "\n",
        "def H_upper(counts):\n",
        "    total = sum(counts)\n",
        "    q = [c/total for c in counts if total>0]\n",
        "    return -sum(p*math.log2(p) for p in q if p>0)\n",
        "\n",
        "def H_lower(counts):\n",
        "    total = sum(counts)\n",
        "    return sum((counts[i]/total)*math.log2(i+1) for i in range(len(counts))) if total>0 else float('nan')\n",
        "\n",
        "def show(name, lst):\n",
        "    counts = counts_from_list(lst)\n",
        "    n = len(lst)\n",
        "    avg_input = sum(lst)/n\n",
        "    h_lo = H_lower(counts)\n",
        "    h_up = H_upper(counts)\n",
        "    print(f\"{name}: n={n}, Avg Input={avg_input:.4f}, H_lower={h_lo:.4f} bits, H_upper={h_up:.4f} bits\")\n",
        "    print(\"counts i=1..27:\", counts)\n",
        "\n",
        "# Per text\n",
        "show(\"Text 2\", text2)\n",
        "show(\"Text 3\", text3)\n",
        "show(\"Text 4\", text4)\n",
        "\n",
        "# Pooled (same context)\n",
        "pooled = text2 + text3 + text4\n",
        "show(\"Pooled (2+3+4)\", pooled)\n"
      ],
      "metadata": {
        "id": "n6siYs-p0-_E",
        "colab": {
          "base_uri": "https://localhost:8080/"
        },
        "outputId": "eac1878d-b673-4702-8fbf-782b25e905c9"
      },
      "execution_count": 1,
      "outputs": [
        {
          "output_type": "stream",
          "name": "stdout",
          "text": [
            "Text 2: n=47, Avg Input=5.3617, H_lower=1.5135 bits, H_upper=2.9787 bits\n",
            "counts i=1..27: [20, 3, 5, 3, 3, 3, 0, 0, 2, 0, 0, 1, 1, 1, 1, 0, 0, 0, 1, 0, 1, 0, 0, 0, 0, 0, 2]\n",
            "Text 3: n=67, Avg Input=3.8657, H_lower=1.0611 bits, H_upper=2.4269 bits\n",
            "counts i=1..27: [38, 7, 2, 3, 2, 4, 2, 2, 1, 1, 0, 0, 0, 0, 0, 2, 0, 0, 0, 1, 0, 0, 0, 0, 0, 0, 2]\n",
            "Text 4: n=57, Avg Input=3.4211, H_lower=0.9630 bits, H_upper=2.2325 bits\n",
            "counts i=1..27: [33, 8, 0, 3, 4, 1, 2, 0, 1, 0, 1, 0, 0, 0, 1, 0, 1, 0, 0, 1, 0, 1, 0, 0, 0, 0, 0]\n",
            "Pooled (2+3+4): n=171, Avg Input=4.1287, H_lower=1.1527 bits, H_upper=2.7396 bits\n",
            "counts i=1..27: [91, 18, 7, 9, 9, 8, 4, 2, 4, 1, 1, 1, 1, 1, 2, 2, 1, 0, 1, 2, 1, 1, 0, 0, 0, 0, 4]\n"
          ]
        }
      ]
    },
    {
      "cell_type": "markdown",
      "source": [
        "Rearrange the guess data into a two-dimensional array, relating number of characters of context (0, 1, 2, ...) to number of guesses required.\n",
        "\n",
        "In other words, you might look in cell (2, 1) and read \"2\" if the number of times it took one guess to get the right letter with two characters of context was 2."
      ],
      "metadata": {
        "id": "3P2UvFmj2Ep2"
      }
    },
    {
      "cell_type": "code",
      "source": [
        "# TODO: Create array of counts of guesses. Print out the array so we can see it.\n",
        "\n",
        "\n",
        "import numpy as np\n",
        "\n",
        "#cleaned guess sequences (trailing zeros removed)\n",
        "text2 = [6,5,5,5,12,1,1,27,15,6,1,1,1,3,1,1,3,1,3,6,9,2,1,1,21,4,27,19,13,4,9,1,4,3,1,1,1,2,14,2,3,1,1,1,1,1,1]\n",
        "text3 = [20,4,27,5,6,2,1,1,7,7,1,1,1,1,1,1,1,1,1,1,6,1,1,1,1,16,2,3,4,1,1,1,1,1,1,6,2,8,1,1,1,8,4,1,2,1,3,1,6,1,1,1,10,2,1,16,1,27,9,5,1,2,2,1,1,1,1]\n",
        "text4 = [5,2,1,1,1,4,9,4,2,1,1,1,1,1,1,20,2,4,1,1,1,1,1,1,2,1,11,5,1,1,5,1,5,2,1,1,1,1,1,7,7,17,1,2,22,6,2,1,1,1,1,1,2,15,1,1,1]\n",
        "\n",
        "\n",
        "raw_guesses_by_context = {\n",
        "    0: text2 + text3 + text4,  # pooled N=0 data\n",
        "}\n",
        "\n",
        "MAX_GUESS = 27\n",
        "context_lengths = sorted(raw_guesses_by_context.keys())\n",
        "\n",
        "# counts matrix: rows=contexts (in order of context_lengths)\n",
        "counts_matrix = np.zeros((len(context_lengths), MAX_GUESS), dtype=int)\n",
        "for r, N in enumerate(context_lengths):\n",
        "    for g in raw_guesses_by_context[N]:\n",
        "        if 1 <= g <= MAX_GUESS:\n",
        "            counts_matrix[r, g-1] += 1\n",
        "\n",
        "print(\"Rows = context lengths (in this order):\", context_lengths)\n",
        "print(\"Cols = guess number 1..27\")\n",
        "print(\"Counts matrix (N x 27):\\n\", counts_matrix)\n",
        "\n",
        "\n",
        "for r, N in enumerate(context_lengths):\n",
        "    print(f\"\\nContext N={N} counts (i=1..27):\")\n",
        "    print(counts_matrix[r].tolist())\n"
      ],
      "metadata": {
        "id": "deK9pKWC1Qp_",
        "colab": {
          "base_uri": "https://localhost:8080/"
        },
        "outputId": "7df90aff-b85f-477c-dcc1-9dd03b6fcbe4"
      },
      "execution_count": 3,
      "outputs": [
        {
          "output_type": "stream",
          "name": "stdout",
          "text": [
            "Rows = context lengths (in this order): [0]\n",
            "Cols = guess number 1..27\n",
            "Counts matrix (N x 27):\n",
            " [[91 18  7  9  9  8  4  2  4  1  1  1  1  1  2  2  1  0  1  2  1  1  0  0\n",
            "   0  0  4]]\n",
            "\n",
            "Context N=0 counts (i=1..27):\n",
            "[91, 18, 7, 9, 9, 8, 4, 2, 4, 1, 1, 1, 1, 1, 2, 2, 1, 0, 1, 2, 1, 1, 0, 0, 0, 0, 4]\n"
          ]
        }
      ]
    },
    {
      "cell_type": "markdown",
      "source": [
        "Now you can compute Shannon's upper and lower bounds on the entropy of your predictive distribution for English. The upper bound, as a function of the number of context characters $N$, is just the Shannon entropy of the distribution of numbers of guesses. In other words, it's the entropy of the original text as &ldquo;reduced&rdquo; by the human encoder to a sequence of numbers of guesses.\n",
        "\n",
        "$F_N = -\\sum_{i=1}^{27} q_i^N \\log_2 q_i^N$\n",
        "\n",
        "where $q_i^N$ is the number of times you took $i$ guesses with $N$ characters of context, i.e., one of the cells in the table you computed. The number of guesses ranges from 1 to 27 since we restrict ourselves to 26 letters plus space. In computing entropy, we define $0 \\log 0 = 0$."
      ],
      "metadata": {
        "id": "BR9BqdYO2eTO"
      }
    },
    {
      "cell_type": "code",
      "source": [
        "# TODO: Compute the upper bound for each amount of context N and print it out.\n",
        "\n",
        "import math\n",
        "import numpy as np\n",
        "\n",
        "def shannon_entropy_from_counts(counts_row: np.ndarray) -> float:\n",
        "    \"\"\"H = -∑ p log2 p over the distribution of exact-guess ranks (i=1..27).\n",
        "       Treat 0*log2(0) as 0 by skipping p=0.\"\"\"\n",
        "    total = counts_row.sum()\n",
        "    if total == 0:\n",
        "        return float('nan')\n",
        "    q = counts_row / total\n",
        "    return -float(np.sum([p * math.log2(p) for p in q if p > 0]))\n",
        "\n",
        "upper_bounds = []\n",
        "for r, N in enumerate(context_lengths):          # context_lengths was defined when building the counts_matrix\n",
        "    HN = shannon_entropy_from_counts(counts_matrix[r].astype(float))\n",
        "    upper_bounds.append(HN)\n",
        "    print(f\"N={N}: H_upper = {HN:.4f} bits\")\n",
        "\n",
        "upper_bounds = np.array(upper_bounds)"
      ],
      "metadata": {
        "id": "4ubcFqVv4CjC",
        "colab": {
          "base_uri": "https://localhost:8080/"
        },
        "outputId": "ddd23734-c495-4ebc-fb75-65f2c8397e21"
      },
      "execution_count": 4,
      "outputs": [
        {
          "output_type": "stream",
          "name": "stdout",
          "text": [
            "N=0: H_upper = 2.7396 bits\n"
          ]
        }
      ]
    },
    {
      "cell_type": "markdown",
      "source": [
        "Shannon derived a lower bound on entropy from the guess data as\n",
        "\n",
        "$\\sum_{i=1}^{27} i(q_i^N - q_{i+1}^N) \\log_2 i$"
      ],
      "metadata": {
        "id": "NRULmLAM4I5g"
      }
    },
    {
      "cell_type": "markdown",
      "source": [],
      "metadata": {
        "id": "V2g9H_lFyLWb"
      }
    },
    {
      "cell_type": "code",
      "source": [
        "# TODO: Compute thew lower bound for each amount of context N and print it out.\n",
        "\n",
        "\n",
        "import math\n",
        "import numpy as np\n",
        "\n",
        "def shannon_lower_bound(counts_row: np.ndarray) -> float:\n",
        "    \"\"\"\n",
        "    H_lower(N) = sum_{i=1..27} i * (q_i - q_{i+1}) * log2(i), with q_28 = 0.\n",
        "    Here q_i are probabilities for 'exactly i guesses' derived from counts_row.\n",
        "    \"\"\"\n",
        "    total = counts_row.sum()\n",
        "    if total == 0:\n",
        "        return float('nan')\n",
        "    q = (counts_row / total).astype(float)   # q[0] corresponds to i = 1\n",
        "    q = np.append(q, 0.0)                    # q_{28} = 0\n",
        "    s = 0.0\n",
        "    for i in range(1, 28):\n",
        "        delta = q[i-1] - q[i]\n",
        "        if delta != 0:\n",
        "            s += i * delta * math.log2(i)\n",
        "    return float(s)\n",
        "\n",
        "lower_bounds = []\n",
        "for r, N in enumerate(context_lengths):\n",
        "    H_lo = shannon_lower_bound(counts_matrix[r])\n",
        "    lower_bounds.append(H_lo)\n",
        "    print(f\"N={N}: H_lower (Shannon) = {H_lo:.4f} bits\")\n",
        "\n",
        "lower_bounds = np.array(lower_bounds)\n"
      ],
      "metadata": {
        "id": "QjRBkxVdB-4S",
        "colab": {
          "base_uri": "https://localhost:8080/"
        },
        "outputId": "0d257847-d873-4d29-8c9b-50512ed77293"
      },
      "execution_count": 5,
      "outputs": [
        {
          "output_type": "stream",
          "name": "stdout",
          "text": [
            "N=0: H_lower (Shannon) = 1.7349 bits\n"
          ]
        }
      ]
    },
    {
      "cell_type": "markdown",
      "source": [
        "## Zipf's Law\n",
        "\n",
        "Now let's look at some text data directly to see the skewed distribution of tokens predicted by Zipf's Law. Recall that Zipf's law states that a word's rank (from the most common word at rank 1 on down) to its frequency is approximately a constant, i.e., $r \\cdot f = k$. Equivalently, we can divide both sides by the total number of tokens $N$ to get $r \\cdot P_r = c$, where $c = k/N$ and $P_r = f/N$ is the _relative frequency_ of word $r$.\n",
        "\n",
        "We start by downloading a sample of 1000 open-access English books from [Project Gutenberg](https://gutenberg.org/)."
      ],
      "metadata": {
        "id": "QRingmXrfJSI"
      }
    },
    {
      "cell_type": "code",
      "source": [
        "# If your local environment doesn't have the wget command,\n",
        "# you can comment this out and download it manually.\n",
        "!wget \"http://khoury.northeastern.edu/home/dasmith/pg-sample.json.gz\""
      ],
      "metadata": {
        "id": "iwJS1ClihN_I"
      },
      "execution_count": null,
      "outputs": []
    },
    {
      "cell_type": "markdown",
      "source": [
        "The file is compressed with gzip and is in a JSON lines format. Each line is one JSON record, which we parse with the `json` library.\n",
        "\n",
        "Here we print out the keys in the first record: `id`, `author`, `title`, and `text`."
      ],
      "metadata": {
        "id": "rcOHU_GPiYwH"
      }
    },
    {
      "cell_type": "code",
      "source": [
        "import gzip, json\n",
        "for line in gzip.open(\"pg-sample.json.gz\", mode=\"rt\", encoding=\"utf-8\"):\n",
        "  rec = json.loads(line)\n",
        "  print(rec.keys())\n",
        "  print(rec['author'])\n",
        "  print(rec['title'])\n",
        "  print(rec['text'][0:100])\n",
        "  break"
      ],
      "metadata": {
        "colab": {
          "base_uri": "https://localhost:8080/"
        },
        "id": "_L3x1DRZhfTb",
        "outputId": "5afba698-3002-403e-aba1-9a0ca283ccb4"
      },
      "execution_count": null,
      "outputs": [
        {
          "output_type": "stream",
          "name": "stdout",
          "text": [
            "dict_keys(['id', 'author', 'title', 'text'])\n",
            "Jefferson, Thomas\n",
            "The Declaration of Independence of the United States of America\n",
            "\n",
            "\n",
            "This is a retranscription of one of the first Project\n",
            "Gutenberg Etexts, offically dated December 3\n"
          ]
        }
      ]
    },
    {
      "cell_type": "markdown",
      "source": [
        "Your task now is to **tokenize** the text in the `text` field of each record into an array of words. Later on in this course, we will discuss learning better tokenizers. For now, you should separate words on whitespace (space, newline, tab) and punctuation. Convert the tokens to lower case, and keep only those tokens that have at least one letter a-z in them. In general, numerals in text tend not to follow Zipf's law but [Benford's law](https://en.wikipedia.org/wiki/Benford%27s_law).\n",
        "\n",
        "You might use _regular expressions_ (e.g., the `re.split` function) to help with tokenization and filtering.\n",
        "\n",
        "After you have tokenized, compute $N$, the total number of tokens in the corpus and print it out."
      ],
      "metadata": {
        "id": "XbfYV9Fyi2UC"
      }
    },
    {
      "cell_type": "code",
      "source": [
        "# TODO: Compute an array of tokens in the corpus\n",
        "# Compute the total number of tokens N and print it out.\n",
        "\n",
        "\n",
        "import os, re, json, gzip, io\n",
        "from urllib.request import urlopen\n",
        "\n",
        "URL = \"http://khoury.northeastern.edu/home/dasmith/pg-sample.json.gz\"\n",
        "FN  = \"pg-sample.json.gz\"\n",
        "\n",
        "def tokenize_text(txt: str):\n",
        "\n",
        "    pieces = re.split(r'[^A-Za-z0-9]+', txt.lower())\n",
        "    return [t for t in pieces if t and re.search(r'[a-z]', t)]\n",
        "\n",
        "def iter_records():\n",
        "    \"\"\"Yield JSON records either from local file (if present) or by streaming the URL.\"\"\"\n",
        "    if os.path.exists(FN):\n",
        "        with gzip.open(FN, mode=\"rt\", encoding=\"utf-8\") as f:\n",
        "            for line in f:\n",
        "                yield json.loads(line)\n",
        "    else:\n",
        "\n",
        "        try:\n",
        "            with urlopen(URL) as resp:\n",
        "                with gzip.GzipFile(fileobj=resp) as gz:\n",
        "                    for bline in gz:\n",
        "                        yield json.loads(bline.decode(\"utf-8\"))\n",
        "        except Exception as e:\n",
        "            raise FileNotFoundError(\n",
        "            ) from e\n",
        "\n",
        "\n",
        "all_tokens = []\n",
        "for rec in iter_records():\n",
        "    all_tokens.extend(tokenize_text(rec[\"text\"]))\n",
        "\n",
        "N = len(all_tokens)\n",
        "print(f\"Total number of tokens N: {N}\")\n",
        "print(\"First 25 tokens:\", all_tokens[:25])\n",
        "print(\"Unique token types:\", len(set(all_tokens)))\n"
      ],
      "metadata": {
        "id": "EsVzek9vkgFc",
        "colab": {
          "base_uri": "https://localhost:8080/"
        },
        "outputId": "fe560d5e-ef68-4798-9e48-40b10c2d1241"
      },
      "execution_count": 12,
      "outputs": [
        {
          "output_type": "stream",
          "name": "stdout",
          "text": [
            "Total number of tokens N: 69635048\n",
            "First 25 tokens: ['this', 'is', 'a', 'retranscription', 'of', 'one', 'of', 'the', 'first', 'project', 'gutenberg', 'etexts', 'offically', 'dated', 'december', 'and', 'now', 'officially', 're', 'released', 'on', 'november', 'years', 'after', 'it']\n",
            "Unique token types: 335282\n"
          ]
        }
      ]
    },
    {
      "cell_type": "markdown",
      "source": [
        "Now, count the frequency each unigram (distinct word) in the corpus and sort them in an array in descending order of frequency. The first item in your array should be the most common word. Print out that word and its frequency"
      ],
      "metadata": {
        "id": "XkRccWKsk4TE"
      }
    },
    {
      "cell_type": "code",
      "source": [
        "# TODO: Compute an arrary of unigrams in descending order of frequency.\n",
        "# Print the most common word and its frequency.\n",
        "\n",
        "\n",
        "from collections import Counter\n",
        "\n",
        "# Count unigrams\n",
        "uni_counts = Counter(all_tokens)\n",
        "\n",
        "# Sorting descending by frequency\n",
        "unigrams_desc = uni_counts.most_common()\n",
        "\n",
        "# Printing the most common word and its frequency\n",
        "recur_word, top_freq = unigrams_desc[0]\n",
        "print(f\" The most common unigram: '{recur_word}'  |  count = {top_freq}\")\n",
        "\n"
      ],
      "metadata": {
        "id": "jhJ7ec3jk2eS",
        "colab": {
          "base_uri": "https://localhost:8080/"
        },
        "outputId": "46bc66ff-05a7-419a-fb6d-0ba9f08efa0c"
      },
      "execution_count": 11,
      "outputs": [
        {
          "output_type": "stream",
          "name": "stdout",
          "text": [
            " The most common unigram: 'the'  |  count = 4468489\n"
          ]
        }
      ]
    },
    {
      "cell_type": "markdown",
      "source": [
        "Now, you can look at the Zipf's law relationship between rank and relative frequency (i.e., frequency divided by $N$). Plot the data using a python graphing package such as matplotlib, plotly, or plotnine. This doesn't have to be a fancy graph, so use whatever you're familiar with. Both axes should be on a log scale. If your package doesn't support log scales, you can take the log of the rank and relative frequency yourself before plotting. Recall that since python arrays are zero-indexed, the rank 1 word will be element 0 of your sorted array."
      ],
      "metadata": {
        "id": "ubHNre1ollvl"
      }
    },
    {
      "cell_type": "code",
      "source": [
        "# TODO: Plot rank vs. relative frequency of unigrams.\n",
        "\n",
        "\n",
        "import numpy as np\n",
        "import matplotlib.pyplot as plt\n",
        "from collections import Counter\n",
        "\n",
        "try:\n",
        "    unigrams_desc\n",
        "except NameError:\n",
        "    uni_counts = Counter(all_tokens)\n",
        "    unigrams_desc = uni_counts.most_common()\n",
        "\n",
        "N = len(all_tokens)\n",
        "\n",
        "# Ranks: 1..V  (rank 1 corresponds to element 0)\n",
        "ranks = np.arange(1, len(unigrams_desc) + 1)\n",
        "rel_freqs = np.array([cnt for _, cnt in unigrams_desc], dtype=float) / N\n",
        "\n",
        "plt.figure()\n",
        "plt.scatter(ranks, rel_freqs, s=6)\n",
        "plt.xscale(\"log\")\n",
        "plt.yscale(\"log\")\n",
        "plt.xlabel(\"Rank (log scale)\")\n",
        "plt.ylabel(\"Relative Frequency (log scale)\")\n",
        "plt.title(\"Zipf plot: Rank of the Unigram vs Relative Frequency\")\n",
        "plt.show()\n"
      ],
      "metadata": {
        "id": "H1wq5OGBmJP1",
        "colab": {
          "base_uri": "https://localhost:8080/",
          "height": 476
        },
        "outputId": "456ebb63-817d-4f38-a9a5-c0c2c2851e87"
      },
      "execution_count": 14,
      "outputs": [
        {
          "output_type": "display_data",
          "data": {
            "text/plain": [
              "<Figure size 640x480 with 1 Axes>"
            ],
            "image/png": "[encoded data removed]"
          },
          "metadata": {}
        }
      ]
    },
    {
      "cell_type": "markdown",
      "source": [
        "Now, take your array of tokens and compute the counts of both the bigrams and trigrams and sort them in descending order of frequency. Print out the most common bigram and trigram."
      ],
      "metadata": {
        "id": "dTVQFNXOmc34"
      }
    },
    {
      "cell_type": "code",
      "source": [
        "# TODO: Compute sorted bigram and trigram statistics.\n",
        "# Print out the most common bigram and trigram.\n",
        "# Plot rank vs. relative frequency for bigrams and trigrams.\n",
        "# You may make separate plots or put them on the same plot and label them.\n",
        "\n",
        "\n",
        "from collections import Counter\n",
        "import numpy as np\n",
        "import matplotlib.pyplot as plt\n",
        "\n",
        "try:\n",
        "    all_tokens\n",
        "except NameError:\n",
        "    raise RuntimeError\n",
        "\n",
        "def ngrams(tokens, n):\n",
        "\n",
        "    if len(tokens) < n:\n",
        "        return []\n",
        "    return zip(*[tokens[i:] for i in range(n)])\n",
        "\n",
        "# counting and sorting\n",
        "bi_counts = Counter(ngrams(all_tokens, 2))\n",
        "tri_counts = Counter(ngrams(all_tokens, 3))\n",
        "\n",
        "bigrams_desc = bi_counts.most_common()   # [(('of','the'), count), ...]\n",
        "trigrams_desc = tri_counts.most_common() # [(('one','of','the'), count), ...]\n",
        "\n",
        "# printing bi-grams and tri-grams\n",
        "if bigrams_desc:\n",
        "    (top_bi, top_bi_c) = bigrams_desc[0]\n",
        "    print(\"The most common bigram: \", \" \".join(top_bi), \"| count =\", top_bi_c)\n",
        "else:\n",
        "    print(\"No bigrams found.\")\n",
        "\n",
        "if trigrams_desc:\n",
        "    (top_tri, top_tri_c) = trigrams_desc[0]\n",
        "    print(\"Most common trigram:\", \" \".join(top_tri), \"| count =\", top_tri_c)\n",
        "else:\n",
        "    print(\"No trigrams found.\")\n",
        "\n",
        "\n",
        "N = len(all_tokens)\n",
        "num_bigrams = max(N - 1, 0)\n",
        "num_trigrams = max(N - 2, 0)\n",
        "\n",
        "\n",
        "bi_ranks = np.arange(1, len(bigrams_desc) + 1)\n",
        "bi_rel = np.array([c for _, c in bigrams_desc], dtype=float) / (num_bigrams if num_bigrams > 0 else 1)\n",
        "\n",
        "\n",
        "tri_ranks = np.arange(1, len(trigrams_desc) + 1)\n",
        "tri_rel = np.array([c for _, c in trigrams_desc], dtype=float) / (num_trigrams if num_trigrams > 0 else 1)\n",
        "\n",
        "plt.figure()\n",
        "plt.scatter(bi_ranks, bi_rel, s=6)\n",
        "plt.xscale(\"log\")\n",
        "plt.yscale(\"log\")\n",
        "plt.xlabel(\"Rank (log scale)\")\n",
        "plt.ylabel(\"Relative frequency (log scale)\")\n",
        "plt.title(\"Zipf-like plot: Bigrams (Rank vs Relative Frequency)\")\n",
        "plt.show()\n",
        "\n",
        "\n",
        "plt.figure()\n",
        "plt.scatter(tri_ranks, tri_rel, s=6)\n",
        "plt.xscale(\"log\")\n",
        "plt.yscale(\"log\")\n",
        "plt.xlabel(\"Rank (log scale)\")\n",
        "plt.ylabel(\"Relative frequency (log scale)\")\n",
        "plt.title(\"Zipf-like plot: Trigrams (rank vs relative frequency)\")\n",
        "plt.show()\n"
      ],
      "metadata": {
        "id": "glYoeIsJmm_d",
        "colab": {
          "base_uri": "https://localhost:8080/",
          "height": 394
        },
        "outputId": "fca60ef5-3763-4ce7-9bfb-10aa95577dbb"
      },
      "execution_count": 1,
      "outputs": [
        {
          "output_type": "error",
          "ename": "RuntimeError",
          "evalue": "",
          "traceback": [
            "\u001b[0;31m---------------------------------------------------------------------------\u001b[0m",
            "\u001b[0;31mNameError\u001b[0m                                 Traceback (most recent call last)",
            "\u001b[0;32m/tmp/ipython-input-510691134.py\u001b[0m in \u001b[0;36m<cell line: 0>\u001b[0;34m()\u001b[0m\n\u001b[1;32m     11\u001b[0m \u001b[0;32mtry\u001b[0m\u001b[0;34m:\u001b[0m\u001b[0;34m\u001b[0m\u001b[0;34m\u001b[0m\u001b[0m\n\u001b[0;32m---> 12\u001b[0;31m     \u001b[0mall_tokens\u001b[0m\u001b[0;34m\u001b[0m\u001b[0;34m\u001b[0m\u001b[0m\n\u001b[0m\u001b[1;32m     13\u001b[0m \u001b[0;32mexcept\u001b[0m \u001b[0mNameError\u001b[0m\u001b[0;34m:\u001b[0m\u001b[0;34m\u001b[0m\u001b[0;34m\u001b[0m\u001b[0m\n",
            "\u001b[0;31mNameError\u001b[0m: name 'all_tokens' is not defined",
            "\nDuring handling of the above exception, another exception occurred:\n",
            "\u001b[0;31mRuntimeError\u001b[0m                              Traceback (most recent call last)",
            "\u001b[0;32m/tmp/ipython-input-510691134.py\u001b[0m in \u001b[0;36m<cell line: 0>\u001b[0;34m()\u001b[0m\n\u001b[1;32m     12\u001b[0m     \u001b[0mall_tokens\u001b[0m\u001b[0;34m\u001b[0m\u001b[0;34m\u001b[0m\u001b[0m\n\u001b[1;32m     13\u001b[0m \u001b[0;32mexcept\u001b[0m \u001b[0mNameError\u001b[0m\u001b[0;34m:\u001b[0m\u001b[0;34m\u001b[0m\u001b[0;34m\u001b[0m\u001b[0m\n\u001b[0;32m---> 14\u001b[0;31m     \u001b[0;32mraise\u001b[0m \u001b[0mRuntimeError\u001b[0m\u001b[0;34m\u001b[0m\u001b[0;34m\u001b[0m\u001b[0m\n\u001b[0m\u001b[1;32m     15\u001b[0m \u001b[0;34m\u001b[0m\u001b[0m\n\u001b[1;32m     16\u001b[0m \u001b[0;32mdef\u001b[0m \u001b[0mngrams\u001b[0m\u001b[0;34m(\u001b[0m\u001b[0mtokens\u001b[0m\u001b[0;34m,\u001b[0m \u001b[0mn\u001b[0m\u001b[0;34m)\u001b[0m\u001b[0;34m:\u001b[0m\u001b[0;34m\u001b[0m\u001b[0;34m\u001b[0m\u001b[0m\n",
            "\u001b[0;31mRuntimeError\u001b[0m: "
          ]
        }
      ]
    },
    {
      "cell_type": "markdown",
      "source": [
        "**TODO**: Finally, write your visual impressions of the fit of the unigram, bigram, and trigram distributions. This doesn't need to be statistically rigorous."
      ],
      "metadata": {
        "id": "TdUTKyE6m0qF"
      }
    }
  ]
}